{
  "nbformat": 4,
  "nbformat_minor": 0,
  "metadata": {
    "colab": {
      "name": "LogisticRegression.ipynb",
      "provenance": [],
      "collapsed_sections": [],
      "authorship_tag": "ABX9TyMXD4FTUfvWWTVlVeqitQqb",
      "include_colab_link": true
    },
    "kernelspec": {
      "name": "python3",
      "display_name": "Python 3"
    },
    "language_info": {
      "name": "python"
    }
  },
  "cells": [
    {
      "cell_type": "markdown",
      "metadata": {
        "id": "view-in-github",
        "colab_type": "text"
      },
      "source": [
        "<a href=\"https://colab.research.google.com/github/pandeyanukul3/file-sorter/blob/main/LogisticRegression.ipynb\" target=\"_parent\"><img src=\"https://colab.research.google.com/assets/colab-badge.svg\" alt=\"Open In Colab\"/></a>"
      ]
    },
    {
      "cell_type": "code",
      "metadata": {
        "id": "p1t1F0oU3en-"
      },
      "source": [
        "# Importing all modules \n",
        "import pandas as pd\n",
        "from sklearn import linear_model\n",
        "import numpy as np\n",
        "import matplotlib.pyplot as plt\n",
        "from sklearn.linear_model import LogisticRegression"
      ],
      "execution_count": 1,
      "outputs": []
    },
    {
      "cell_type": "code",
      "metadata": {
        "colab": {
          "resources": {
            "http://localhost:8080/nbextensions/google.colab/files.js": {
              "data": "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",
              "ok": true,
              "headers": [
                [
                  "content-type",
                  "application/javascript"
                ]
              ],
              "status": 200,
              "status_text": ""
            }
          },
          "base_uri": "https://localhost:8080/",
          "height": 73
        },
        "id": "TdHu1gOu4S-a",
        "outputId": "62148e4b-e125-45ba-add7-6288cec59949"
      },
      "source": [
        "# Loading the data\n",
        "from google.colab import files\n",
        "uploaded = files.upload()"
      ],
      "execution_count": 2,
      "outputs": [
        {
          "output_type": "display_data",
          "data": {
            "text/html": [
              "\n",
              "     <input type=\"file\" id=\"files-255cd454-5603-480f-9a8c-0119bd78e32f\" name=\"files[]\" multiple disabled\n",
              "        style=\"border:none\" />\n",
              "     <output id=\"result-255cd454-5603-480f-9a8c-0119bd78e32f\">\n",
              "      Upload widget is only available when the cell has been executed in the\n",
              "      current browser session. Please rerun this cell to enable.\n",
              "      </output>\n",
              "      <script src=\"/nbextensions/google.colab/files.js\"></script> "
            ],
            "text/plain": [
              "<IPython.core.display.HTML object>"
            ]
          },
          "metadata": {
            "tags": []
          }
        },
        {
          "output_type": "stream",
          "text": [
            "Saving BTCprices.csv to BTCprices.csv\n"
          ],
          "name": "stdout"
        }
      ]
    },
    {
      "cell_type": "code",
      "metadata": {
        "colab": {
          "base_uri": "https://localhost:8080/",
          "height": 263
        },
        "id": "UOcWpf4j5UM1",
        "outputId": "b692b708-3ad2-46d9-c228-0ca38699a6fe"
      },
      "source": [
        "# Storing the data into variable \n",
        "df = pd.read_csv('BTCprices.csv')\n",
        "\n",
        "# Show the first 7 rows of data\n",
        "df.head(7)"
      ],
      "execution_count": 6,
      "outputs": [
        {
          "output_type": "execute_result",
          "data": {
            "text/html": [
              "<div>\n",
              "<style scoped>\n",
              "    .dataframe tbody tr th:only-of-type {\n",
              "        vertical-align: middle;\n",
              "    }\n",
              "\n",
              "    .dataframe tbody tr th {\n",
              "        vertical-align: top;\n",
              "    }\n",
              "\n",
              "    .dataframe thead th {\n",
              "        text-align: right;\n",
              "    }\n",
              "</style>\n",
              "<table border=\"1\" class=\"dataframe\">\n",
              "  <thead>\n",
              "    <tr style=\"text-align: right;\">\n",
              "      <th></th>\n",
              "      <th>Price</th>\n",
              "    </tr>\n",
              "  </thead>\n",
              "  <tbody>\n",
              "    <tr>\n",
              "      <th>0</th>\n",
              "      <td>58527.57629</td>\n",
              "    </tr>\n",
              "    <tr>\n",
              "      <th>1</th>\n",
              "      <td>58489.65867</td>\n",
              "    </tr>\n",
              "    <tr>\n",
              "      <th>2</th>\n",
              "      <td>58515.31454</td>\n",
              "    </tr>\n",
              "    <tr>\n",
              "      <th>3</th>\n",
              "      <td>58406.68779</td>\n",
              "    </tr>\n",
              "    <tr>\n",
              "      <th>4</th>\n",
              "      <td>58357.15875</td>\n",
              "    </tr>\n",
              "    <tr>\n",
              "      <th>5</th>\n",
              "      <td>58522.63051</td>\n",
              "    </tr>\n",
              "    <tr>\n",
              "      <th>6</th>\n",
              "      <td>58469.28573</td>\n",
              "    </tr>\n",
              "  </tbody>\n",
              "</table>\n",
              "</div>"
            ],
            "text/plain": [
              "         Price\n",
              "0  58527.57629\n",
              "1  58489.65867\n",
              "2  58515.31454\n",
              "3  58406.68779\n",
              "4  58357.15875\n",
              "5  58522.63051\n",
              "6  58469.28573"
            ]
          },
          "metadata": {
            "tags": []
          },
          "execution_count": 6
        }
      ]
    },
    {
      "cell_type": "code",
      "metadata": {
        "colab": {
          "base_uri": "https://localhost:8080/",
          "height": 263
        },
        "id": "_DtrKgw55nUw",
        "outputId": "70191761-39f2-4a34-a927-10db9701cc7a"
      },
      "source": [
        "# Prediction variable\n",
        "prediction_day=20\n",
        "\n",
        "# Creating another column (shift data)\n",
        "df['Prediction']=df[['Price']].shift(-prediction_day)\n",
        "\n",
        "# Showing the outcome till now\n",
        "df.head(7)"
      ],
      "execution_count": 29,
      "outputs": [
        {
          "output_type": "execute_result",
          "data": {
            "text/html": [
              "<div>\n",
              "<style scoped>\n",
              "    .dataframe tbody tr th:only-of-type {\n",
              "        vertical-align: middle;\n",
              "    }\n",
              "\n",
              "    .dataframe tbody tr th {\n",
              "        vertical-align: top;\n",
              "    }\n",
              "\n",
              "    .dataframe thead th {\n",
              "        text-align: right;\n",
              "    }\n",
              "</style>\n",
              "<table border=\"1\" class=\"dataframe\">\n",
              "  <thead>\n",
              "    <tr style=\"text-align: right;\">\n",
              "      <th></th>\n",
              "      <th>Price</th>\n",
              "      <th>Prediction</th>\n",
              "    </tr>\n",
              "  </thead>\n",
              "  <tbody>\n",
              "    <tr>\n",
              "      <th>0</th>\n",
              "      <td>58527.57629</td>\n",
              "      <td>59546.37230</td>\n",
              "    </tr>\n",
              "    <tr>\n",
              "      <th>1</th>\n",
              "      <td>58489.65867</td>\n",
              "      <td>59597.76027</td>\n",
              "    </tr>\n",
              "    <tr>\n",
              "      <th>2</th>\n",
              "      <td>58515.31454</td>\n",
              "      <td>59527.60449</td>\n",
              "    </tr>\n",
              "    <tr>\n",
              "      <th>3</th>\n",
              "      <td>58406.68779</td>\n",
              "      <td>59509.48966</td>\n",
              "    </tr>\n",
              "    <tr>\n",
              "      <th>4</th>\n",
              "      <td>58357.15875</td>\n",
              "      <td>59370.75261</td>\n",
              "    </tr>\n",
              "    <tr>\n",
              "      <th>5</th>\n",
              "      <td>58522.63051</td>\n",
              "      <td>59347.43362</td>\n",
              "    </tr>\n",
              "    <tr>\n",
              "      <th>6</th>\n",
              "      <td>58469.28573</td>\n",
              "      <td>59302.40180</td>\n",
              "    </tr>\n",
              "  </tbody>\n",
              "</table>\n",
              "</div>"
            ],
            "text/plain": [
              "         Price   Prediction\n",
              "0  58527.57629  59546.37230\n",
              "1  58489.65867  59597.76027\n",
              "2  58515.31454  59527.60449\n",
              "3  58406.68779  59509.48966\n",
              "4  58357.15875  59370.75261\n",
              "5  58522.63051  59347.43362\n",
              "6  58469.28573  59302.40180"
            ]
          },
          "metadata": {
            "tags": []
          },
          "execution_count": 29
        }
      ]
    },
    {
      "cell_type": "code",
      "metadata": {
        "colab": {
          "base_uri": "https://localhost:8080/",
          "height": 263
        },
        "id": "e28UIQ368fve",
        "outputId": "2a2008f5-58ef-4564-cd06-acdf2587de02"
      },
      "source": [
        "# Showing last sets\n",
        "df.tail(7)"
      ],
      "execution_count": 30,
      "outputs": [
        {
          "output_type": "execute_result",
          "data": {
            "text/html": [
              "<div>\n",
              "<style scoped>\n",
              "    .dataframe tbody tr th:only-of-type {\n",
              "        vertical-align: middle;\n",
              "    }\n",
              "\n",
              "    .dataframe tbody tr th {\n",
              "        vertical-align: top;\n",
              "    }\n",
              "\n",
              "    .dataframe thead th {\n",
              "        text-align: right;\n",
              "    }\n",
              "</style>\n",
              "<table border=\"1\" class=\"dataframe\">\n",
              "  <thead>\n",
              "    <tr style=\"text-align: right;\">\n",
              "      <th></th>\n",
              "      <th>Price</th>\n",
              "      <th>Prediction</th>\n",
              "    </tr>\n",
              "  </thead>\n",
              "  <tbody>\n",
              "    <tr>\n",
              "      <th>282</th>\n",
              "      <td>56125.48972</td>\n",
              "      <td>NaN</td>\n",
              "    </tr>\n",
              "    <tr>\n",
              "      <th>283</th>\n",
              "      <td>56222.33194</td>\n",
              "      <td>NaN</td>\n",
              "    </tr>\n",
              "    <tr>\n",
              "      <th>284</th>\n",
              "      <td>56321.93080</td>\n",
              "      <td>NaN</td>\n",
              "    </tr>\n",
              "    <tr>\n",
              "      <th>285</th>\n",
              "      <td>56256.40849</td>\n",
              "      <td>NaN</td>\n",
              "    </tr>\n",
              "    <tr>\n",
              "      <th>286</th>\n",
              "      <td>56222.63023</td>\n",
              "      <td>NaN</td>\n",
              "    </tr>\n",
              "    <tr>\n",
              "      <th>287</th>\n",
              "      <td>56409.20256</td>\n",
              "      <td>NaN</td>\n",
              "    </tr>\n",
              "    <tr>\n",
              "      <th>288</th>\n",
              "      <td>56420.81600</td>\n",
              "      <td>NaN</td>\n",
              "    </tr>\n",
              "  </tbody>\n",
              "</table>\n",
              "</div>"
            ],
            "text/plain": [
              "           Price  Prediction\n",
              "282  56125.48972         NaN\n",
              "283  56222.33194         NaN\n",
              "284  56321.93080         NaN\n",
              "285  56256.40849         NaN\n",
              "286  56222.63023         NaN\n",
              "287  56409.20256         NaN\n",
              "288  56420.81600         NaN"
            ]
          },
          "metadata": {
            "tags": []
          },
          "execution_count": 30
        }
      ]
    },
    {
      "cell_type": "code",
      "metadata": {
        "colab": {
          "base_uri": "https://localhost:8080/"
        },
        "id": "FGmGNjYk8npy",
        "outputId": "2a86c5b5-2fe5-43db-fd04-8205332498bd"
      },
      "source": [
        "# Creating the independent dataset\n",
        "\n",
        "# Convert the dataset to numpy array \n",
        "X=np.array(df.drop(['Prediction'],1))\n",
        "\n",
        "# Removing the last 1 prediction\n",
        "X=X[:len(df)-prediction_day]\n",
        "print(X)"
      ],
      "execution_count": 31,
      "outputs": [
        {
          "output_type": "stream",
          "text": [
            "[[58527.57629]\n",
            " [58489.65867]\n",
            " [58515.31454]\n",
            " [58406.68779]\n",
            " [58357.15875]\n",
            " [58522.63051]\n",
            " [58469.28573]\n",
            " [58361.95232]\n",
            " [58243.20762]\n",
            " [58361.27875]\n",
            " [58358.97314]\n",
            " [58415.21893]\n",
            " [58566.82868]\n",
            " [58609.64432]\n",
            " [58604.50752]\n",
            " [58559.61356]\n",
            " [58590.54544]\n",
            " [58538.04196]\n",
            " [58703.7056 ]\n",
            " [59098.12929]\n",
            " [59546.3723 ]\n",
            " [59597.76027]\n",
            " [59527.60449]\n",
            " [59509.48966]\n",
            " [59370.75261]\n",
            " [59347.43362]\n",
            " [59302.4018 ]\n",
            " [59212.53044]\n",
            " [59150.22114]\n",
            " [59095.98053]\n",
            " [59093.62925]\n",
            " [59032.50612]\n",
            " [58910.94937]\n",
            " [58761.96503]\n",
            " [58849.64124]\n",
            " [58817.34881]\n",
            " [58745.69133]\n",
            " [58660.6648 ]\n",
            " [58607.00715]\n",
            " [58620.87085]\n",
            " [58508.11099]\n",
            " [58483.62156]\n",
            " [58493.95918]\n",
            " [58218.8873 ]\n",
            " [58132.74397]\n",
            " [58154.80981]\n",
            " [58087.26067]\n",
            " [58074.72161]\n",
            " [58042.24535]\n",
            " [57902.81525]\n",
            " [57730.39063]\n",
            " [57710.77514]\n",
            " [57671.0845 ]\n",
            " [57811.15533]\n",
            " [57989.21967]\n",
            " [57632.79065]\n",
            " [57670.27948]\n",
            " [57701.74816]\n",
            " [57804.74567]\n",
            " [57807.14829]\n",
            " [57725.19758]\n",
            " [57649.5888 ]\n",
            " [57636.55492]\n",
            " [57574.93588]\n",
            " [57341.02556]\n",
            " [57277.2153 ]\n",
            " [57153.13872]\n",
            " [56802.86303]\n",
            " [56676.24761]\n",
            " [55532.09958]\n",
            " [55461.05627]\n",
            " [55647.90033]\n",
            " [55838.80337]\n",
            " [55908.57536]\n",
            " [55905.41798]\n",
            " [56187.32483]\n",
            " [56134.54975]\n",
            " [55958.00252]\n",
            " [55758.67768]\n",
            " [55905.54895]\n",
            " [55923.88287]\n",
            " [56232.35234]\n",
            " [56375.55345]\n",
            " [56357.79146]\n",
            " [56225.4985 ]\n",
            " [56269.36819]\n",
            " [56207.99111]\n",
            " [56267.01348]\n",
            " [56457.89256]\n",
            " [56519.35735]\n",
            " [56470.06746]\n",
            " [56487.77263]\n",
            " [56490.68902]\n",
            " [56608.14646]\n",
            " [56694.17335]\n",
            " [56770.50785]\n",
            " [56704.51658]\n",
            " [56557.5832 ]\n",
            " [56508.5882 ]\n",
            " [56384.42286]\n",
            " [56341.58197]\n",
            " [56507.89483]\n",
            " [56711.6642 ]\n",
            " [56918.71524]\n",
            " [56960.49948]\n",
            " [56817.91539]\n",
            " [56668.34048]\n",
            " [56635.34811]\n",
            " [56597.74531]\n",
            " [56640.77602]\n",
            " [56430.82185]\n",
            " [56641.93332]\n",
            " [56640.43494]\n",
            " [56660.56621]\n",
            " [56674.12193]\n",
            " [56564.23765]\n",
            " [56608.91463]\n",
            " [56381.38567]\n",
            " [56408.0951 ]\n",
            " [56297.47279]\n",
            " [56438.94324]\n",
            " [56795.72491]\n",
            " [57052.65073]\n",
            " [56897.53356]\n",
            " [56891.64064]\n",
            " [56804.4072 ]\n",
            " [56613.88025]\n",
            " [56396.88652]\n",
            " [56373.03277]\n",
            " [56426.72144]\n",
            " [56288.56239]\n",
            " [56099.32314]\n",
            " [56169.94274]\n",
            " [56236.19838]\n",
            " [56100.31549]\n",
            " [56307.02976]\n",
            " [56319.3046 ]\n",
            " [56349.67026]\n",
            " [56331.32252]\n",
            " [56275.30534]\n",
            " [56257.9904 ]\n",
            " [56069.98919]\n",
            " [56163.37691]\n",
            " [56273.37152]\n",
            " [56512.25493]\n",
            " [56601.61347]\n",
            " [56493.50407]\n",
            " [56253.60119]\n",
            " [56103.06003]\n",
            " [56009.01666]\n",
            " [55740.1501 ]\n",
            " [55512.57259]\n",
            " [55436.05007]\n",
            " [55503.03097]\n",
            " [55577.34264]\n",
            " [55423.27592]\n",
            " [55370.26992]\n",
            " [55491.99723]\n",
            " [55519.05055]\n",
            " [55631.12443]\n",
            " [55749.41072]\n",
            " [55836.19368]\n",
            " [55801.43722]\n",
            " [55678.83484]\n",
            " [55799.37871]\n",
            " [55924.78741]\n",
            " [55957.20293]\n",
            " [56065.74285]\n",
            " [56114.49097]\n",
            " [56095.4754 ]\n",
            " [56184.47913]\n",
            " [56180.16016]\n",
            " [56202.30048]\n",
            " [56110.43793]\n",
            " [56033.7736 ]\n",
            " [56114.56759]\n",
            " [56171.51516]\n",
            " [56172.78852]\n",
            " [56026.70924]\n",
            " [56099.54411]\n",
            " [55995.55689]\n",
            " [55877.97391]\n",
            " [55725.87166]\n",
            " [55585.20403]\n",
            " [55463.472  ]\n",
            " [55475.27821]\n",
            " [55652.26795]\n",
            " [55696.20383]\n",
            " [55540.21981]\n",
            " [55636.45912]\n",
            " [55650.59987]\n",
            " [55712.02526]\n",
            " [55820.35299]\n",
            " [55839.38518]\n",
            " [55903.06645]\n",
            " [55977.31713]\n",
            " [56040.02539]\n",
            " [56137.41588]\n",
            " [56261.34078]\n",
            " [56353.64358]\n",
            " [56466.04484]\n",
            " [56420.22122]\n",
            " [56319.12958]\n",
            " [56367.43912]\n",
            " [56300.71276]\n",
            " [56242.52712]\n",
            " [56216.85944]\n",
            " [56285.31498]\n",
            " [56197.00328]\n",
            " [56184.93094]\n",
            " [56242.88321]\n",
            " [56307.17035]\n",
            " [56470.51653]\n",
            " [56384.23631]\n",
            " [56375.1858 ]\n",
            " [56345.26033]\n",
            " [56204.97941]\n",
            " [56148.66486]\n",
            " [56094.95417]\n",
            " [56012.7139 ]\n",
            " [56090.02705]\n",
            " [56125.24666]\n",
            " [56070.52994]\n",
            " [55935.53928]\n",
            " [55989.89597]\n",
            " [56085.85792]\n",
            " [56111.39559]\n",
            " [56171.10349]\n",
            " [56266.84236]\n",
            " [56288.28934]\n",
            " [56214.29628]\n",
            " [56304.71619]\n",
            " [56322.16871]\n",
            " [56323.91123]\n",
            " [56325.10759]\n",
            " [56465.2039 ]\n",
            " [56538.78599]\n",
            " [56558.85457]\n",
            " [56651.32353]\n",
            " [56647.78489]\n",
            " [56621.92691]\n",
            " [56649.3429 ]\n",
            " [56707.82118]\n",
            " [56613.97022]\n",
            " [56569.52522]\n",
            " [56565.65063]\n",
            " [56523.9846 ]\n",
            " [56513.25948]\n",
            " [56587.56028]\n",
            " [56594.31058]\n",
            " [56399.92105]\n",
            " [56385.45657]\n",
            " [56466.22507]\n",
            " [56553.75353]\n",
            " [56511.73654]\n",
            " [56396.40372]\n",
            " [56358.62514]\n",
            " [56177.97847]\n",
            " [56060.28001]\n",
            " [55956.74039]\n",
            " [55853.44558]\n",
            " [55819.29103]\n",
            " [55848.06613]\n",
            " [55805.13944]\n",
            " [55729.96072]\n",
            " [55596.29074]\n",
            " [55531.9717 ]\n",
            " [55604.10613]\n",
            " [55640.39403]]\n"
          ],
          "name": "stdout"
        }
      ]
    },
    {
      "cell_type": "code",
      "metadata": {
        "colab": {
          "base_uri": "https://localhost:8080/"
        },
        "id": "oKhftIG_9YCz",
        "outputId": "ff24cb47-213c-47f2-d234-4a439dbf0d0a"
      },
      "source": [
        "# Create the dependent dataset\n",
        "\n",
        "# Convert the dataframe to the numpy array\n",
        "y=np.array(df['Prediction'])\n",
        "\n",
        "# Get all the values except the last one\n",
        "y=y[:-prediction_day]\n",
        "print(y)"
      ],
      "execution_count": 32,
      "outputs": [
        {
          "output_type": "stream",
          "text": [
            "[59546.3723  59597.76027 59527.60449 59509.48966 59370.75261 59347.43362\n",
            " 59302.4018  59212.53044 59150.22114 59095.98053 59093.62925 59032.50612\n",
            " 58910.94937 58761.96503 58849.64124 58817.34881 58745.69133 58660.6648\n",
            " 58607.00715 58620.87085 58508.11099 58483.62156 58493.95918 58218.8873\n",
            " 58132.74397 58154.80981 58087.26067 58074.72161 58042.24535 57902.81525\n",
            " 57730.39063 57710.77514 57671.0845  57811.15533 57989.21967 57632.79065\n",
            " 57670.27948 57701.74816 57804.74567 57807.14829 57725.19758 57649.5888\n",
            " 57636.55492 57574.93588 57341.02556 57277.2153  57153.13872 56802.86303\n",
            " 56676.24761 55532.09958 55461.05627 55647.90033 55838.80337 55908.57536\n",
            " 55905.41798 56187.32483 56134.54975 55958.00252 55758.67768 55905.54895\n",
            " 55923.88287 56232.35234 56375.55345 56357.79146 56225.4985  56269.36819\n",
            " 56207.99111 56267.01348 56457.89256 56519.35735 56470.06746 56487.77263\n",
            " 56490.68902 56608.14646 56694.17335 56770.50785 56704.51658 56557.5832\n",
            " 56508.5882  56384.42286 56341.58197 56507.89483 56711.6642  56918.71524\n",
            " 56960.49948 56817.91539 56668.34048 56635.34811 56597.74531 56640.77602\n",
            " 56430.82185 56641.93332 56640.43494 56660.56621 56674.12193 56564.23765\n",
            " 56608.91463 56381.38567 56408.0951  56297.47279 56438.94324 56795.72491\n",
            " 57052.65073 56897.53356 56891.64064 56804.4072  56613.88025 56396.88652\n",
            " 56373.03277 56426.72144 56288.56239 56099.32314 56169.94274 56236.19838\n",
            " 56100.31549 56307.02976 56319.3046  56349.67026 56331.32252 56275.30534\n",
            " 56257.9904  56069.98919 56163.37691 56273.37152 56512.25493 56601.61347\n",
            " 56493.50407 56253.60119 56103.06003 56009.01666 55740.1501  55512.57259\n",
            " 55436.05007 55503.03097 55577.34264 55423.27592 55370.26992 55491.99723\n",
            " 55519.05055 55631.12443 55749.41072 55836.19368 55801.43722 55678.83484\n",
            " 55799.37871 55924.78741 55957.20293 56065.74285 56114.49097 56095.4754\n",
            " 56184.47913 56180.16016 56202.30048 56110.43793 56033.7736  56114.56759\n",
            " 56171.51516 56172.78852 56026.70924 56099.54411 55995.55689 55877.97391\n",
            " 55725.87166 55585.20403 55463.472   55475.27821 55652.26795 55696.20383\n",
            " 55540.21981 55636.45912 55650.59987 55712.02526 55820.35299 55839.38518\n",
            " 55903.06645 55977.31713 56040.02539 56137.41588 56261.34078 56353.64358\n",
            " 56466.04484 56420.22122 56319.12958 56367.43912 56300.71276 56242.52712\n",
            " 56216.85944 56285.31498 56197.00328 56184.93094 56242.88321 56307.17035\n",
            " 56470.51653 56384.23631 56375.1858  56345.26033 56204.97941 56148.66486\n",
            " 56094.95417 56012.7139  56090.02705 56125.24666 56070.52994 55935.53928\n",
            " 55989.89597 56085.85792 56111.39559 56171.10349 56266.84236 56288.28934\n",
            " 56214.29628 56304.71619 56322.16871 56323.91123 56325.10759 56465.2039\n",
            " 56538.78599 56558.85457 56651.32353 56647.78489 56621.92691 56649.3429\n",
            " 56707.82118 56613.97022 56569.52522 56565.65063 56523.9846  56513.25948\n",
            " 56587.56028 56594.31058 56399.92105 56385.45657 56466.22507 56553.75353\n",
            " 56511.73654 56396.40372 56358.62514 56177.97847 56060.28001 55956.74039\n",
            " 55853.44558 55819.29103 55848.06613 55805.13944 55729.96072 55596.29074\n",
            " 55531.9717  55604.10613 55640.39403 55836.78635 55873.88835 55912.39499\n",
            " 56061.50812 56244.54976 56186.73374 56127.98594 56007.1719  55707.06132\n",
            " 55649.09651 55820.70682 55781.2016  55956.20959 56125.48972 56222.33194\n",
            " 56321.9308  56256.40849 56222.63023 56409.20256 56420.816  ]\n"
          ],
          "name": "stdout"
        }
      ]
    },
    {
      "cell_type": "code",
      "metadata": {
        "id": "m7lCPVXR9zx4"
      },
      "source": [
        "# Splitting the data into 90% training and 10% in testing\n",
        "from sklearn.model_selection import train_test_split\n",
        "x_train,x_test,y_train,y_test = train_test_split(X,y,test_size=0.1)\n"
      ],
      "execution_count": 33,
      "outputs": []
    },
    {
      "cell_type": "code",
      "metadata": {
        "colab": {
          "base_uri": "https://localhost:8080/"
        },
        "id": "IkmgcZR7-NOi",
        "outputId": "6fa43585-a06f-45a5-b882-0daa3f5a9607"
      },
      "source": [
        "# Set prediction_day_arrayy = last row from the original array\n",
        "prediction_day_array = np.array(df.drop(['Prediction'],1))[-prediction_day:]\n",
        "print(prediction_day_array)"
      ],
      "execution_count": 34,
      "outputs": [
        {
          "output_type": "stream",
          "text": [
            "[[55836.78635]\n",
            " [55873.88835]\n",
            " [55912.39499]\n",
            " [56061.50812]\n",
            " [56244.54976]\n",
            " [56186.73374]\n",
            " [56127.98594]\n",
            " [56007.1719 ]\n",
            " [55707.06132]\n",
            " [55649.09651]\n",
            " [55820.70682]\n",
            " [55781.2016 ]\n",
            " [55956.20959]\n",
            " [56125.48972]\n",
            " [56222.33194]\n",
            " [56321.9308 ]\n",
            " [56256.40849]\n",
            " [56222.63023]\n",
            " [56409.20256]\n",
            " [56420.816  ]]\n"
          ],
          "name": "stdout"
        }
      ]
    },
    {
      "cell_type": "code",
      "metadata": {
        "colab": {
          "base_uri": "https://localhost:8080/"
        },
        "id": "yjB1gCS4-sbu",
        "outputId": "b5018fc9-f89e-4159-affc-f42271df3ca1"
      },
      "source": [
        "from sklearn.svm import SVR\n",
        "\n",
        "# Create and train the support vector machine(Regression)\n",
        "svr_rbf=SVR(kernel='rbf',C=1e3,gamma=0.00001)\n",
        "svr_rbf.fit(x_train,y_train)"
      ],
      "execution_count": 35,
      "outputs": [
        {
          "output_type": "execute_result",
          "data": {
            "text/plain": [
              "SVR(C=1000.0, cache_size=200, coef0=0.0, degree=3, epsilon=0.1, gamma=1e-05,\n",
              "    kernel='rbf', max_iter=-1, shrinking=True, tol=0.001, verbose=False)"
            ]
          },
          "metadata": {
            "tags": []
          },
          "execution_count": 35
        }
      ]
    },
    {
      "cell_type": "code",
      "metadata": {
        "colab": {
          "base_uri": "https://localhost:8080/"
        },
        "id": "DpXeLHo2_TbU",
        "outputId": "a2a27c44-6553-49ea-e429-fb5da7630713"
      },
      "source": [
        "# Testing the model\n",
        "svr_rbf_confidence = svr_rbf.score(x_test,y_test)\n",
        "print('svr_rbf accuracy:',svr_rbf_confidence)"
      ],
      "execution_count": 36,
      "outputs": [
        {
          "output_type": "stream",
          "text": [
            "svr_rbf accuracy: 0.8437550800139766\n"
          ],
          "name": "stdout"
        }
      ]
    },
    {
      "cell_type": "code",
      "metadata": {
        "colab": {
          "base_uri": "https://localhost:8080/"
        },
        "id": "yivFefcq_nj-",
        "outputId": "50cc2e29-1bda-4c2c-e556-4fb8adfb0a87"
      },
      "source": [
        "# Print the predicted values\n",
        "svm_prediction=svr_rbf.predict(x_test)\n",
        "print(svm_prediction)\n",
        "\n",
        "print()\n",
        "\n",
        "# Print the actual values\n",
        "print(y_test)\n",
        "\n",
        "# Print difference of the two\n",
        "# print(-(svm_prediction-y_test))\n",
        "\n",
        "a=np.array(svm_prediction-y_test)\n",
        "# print(-np.sum(a))"
      ],
      "execution_count": 38,
      "outputs": [
        {
          "output_type": "stream",
          "text": [
            "[56176.51435232 55950.23322962 57980.34402104 56729.44222309\n",
            " 58156.02910295 56124.02518247 56127.58592018 56180.74507306\n",
            " 56919.53365724 58122.48885033 58170.92206428 56522.25891559\n",
            " 56179.65367712 56298.78276837 56127.36179382 58145.82696099\n",
            " 56095.00239562 56240.25152762 56161.76976533 56219.66205886\n",
            " 56180.0150963  56249.28065717 56092.60284344 56177.83693561\n",
            " 56216.61356162 56703.94603964 56102.26020852]\n",
            "\n",
            "[56373.03277 55532.09958 58042.24535 56273.37152 57574.93588 56507.89483\n",
            " 55512.57259 56660.56621 56802.86303 58087.26067 58132.74397 56163.37691\n",
            " 56171.10349 56345.26033 56353.64358 58483.62156 56288.28934 56396.40372\n",
            " 56817.91539 55957.20293 56244.54976 56242.88321 56137.41588 55924.78741\n",
            " 56256.40849 56891.64064 55820.35299]\n"
          ],
          "name": "stdout"
        }
      ]
    }
  ]
}